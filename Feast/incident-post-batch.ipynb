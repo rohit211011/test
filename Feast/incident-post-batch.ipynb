{
 "cells": [
  {
   "cell_type": "markdown",
   "metadata": {},
   "source": [
    "# Incident prediction features Example"
   ]
  },
  {
   "cell_type": "code",
   "execution_count": 23,
   "metadata": {},
   "outputs": [
    {
     "name": "stdout",
     "output_type": "stream",
     "text": [
      "{'FEAST_CORE_URL': 'core:6565',\n",
      " 'FEAST_HISTORICAL_FEATURE_OUTPUT_FORMAT': 'parquet',\n",
      " 'FEAST_HISTORICAL_FEATURE_OUTPUT_LOCATION': 'file:///shared/historical_feature_output',\n",
      " 'FEAST_REDIS_HOST': 'redis',\n",
      " 'FEAST_SERVING_URL': 'online_serving:6566',\n",
      " 'FEAST_SPARK_HOME': '/usr/local/spark',\n",
      " 'FEAST_SPARK_LAUNCHER': 'standalone',\n",
      " 'FEAST_SPARK_STAGING_LOCATION': 'file:///shared/staging',\n",
      " 'FEAST_SPARK_STANDALONE_MASTER': 'local'}\n"
     ]
    }
   ],
   "source": [
    "import os\n",
    "from pprint import pprint\n",
    "pprint({key: value for key, value in os.environ.items() if key.startswith(\"FEAST_\")})"
   ]
  },
  {
   "cell_type": "markdown",
   "metadata": {},
   "source": [
    "### Basic Imports and Feast Client initialization"
   ]
  },
  {
   "cell_type": "code",
   "execution_count": 24,
   "metadata": {},
   "outputs": [],
   "source": [
    "import os\n",
    "\n",
    "from feast import Client, Feature, Entity, ValueType, FeatureTable\n",
    "from feast.data_source import FileSource, KafkaSource\n",
    "from feast.data_format import ParquetFormat, AvroFormat"
   ]
  },
  {
   "cell_type": "code",
   "execution_count": 25,
   "metadata": {},
   "outputs": [],
   "source": [
    "client = Client()"
   ]
  },
  {
   "cell_type": "markdown",
   "metadata": {},
   "source": [
    "### Taking indicident data as from batch source"
   ]
  },
  {
   "cell_type": "markdown",
   "metadata": {},
   "source": [
    "Here data is treated as been taken from the batch source. We are using dataframe as source of data.\n",
    "\n",
    "For both batch and stream sources, the following configurations are necessary:\n",
    "Event timestamp column: Name of column containing timestamp when event data occurred. Used during point-in-time join of feature values to entity timestamps.\n",
    "Created timestamp column: Name of column containing timestamp when data is created. Used to deduplicate data when multiple copies of the same entity key is ingested."
   ]
  },
  {
   "cell_type": "code",
   "execution_count": 26,
   "metadata": {
    "scrolled": true
   },
   "outputs": [
    {
     "name": "stderr",
     "output_type": "stream",
     "text": [
      "/opt/conda/lib/python3.7/site-packages/IPython/core/interactiveshell.py:3049: DtypeWarning: Columns (8) have mixed types.Specify dtype option on import or set low_memory=False.\n",
      "  interactivity=interactivity, compiler=compiler, result=result)\n"
     ]
    },
    {
     "data": {
      "text/html": [
       "<div>\n",
       "<style scoped>\n",
       "    .dataframe tbody tr th:only-of-type {\n",
       "        vertical-align: middle;\n",
       "    }\n",
       "\n",
       "    .dataframe tbody tr th {\n",
       "        vertical-align: top;\n",
       "    }\n",
       "\n",
       "    .dataframe thead th {\n",
       "        text-align: right;\n",
       "    }\n",
       "</style>\n",
       "<table border=\"1\" class=\"dataframe\">\n",
       "  <thead>\n",
       "    <tr style=\"text-align: right;\">\n",
       "      <th></th>\n",
       "      <th>incident_id</th>\n",
       "      <th>ci_name_aff</th>\n",
       "      <th>ci_type_aff</th>\n",
       "      <th>service_component_wbs_aff</th>\n",
       "      <th>datetime</th>\n",
       "      <th>created</th>\n",
       "    </tr>\n",
       "  </thead>\n",
       "  <tbody>\n",
       "    <tr>\n",
       "      <th>0</th>\n",
       "      <td>IM0000004</td>\n",
       "      <td>SUB000508</td>\n",
       "      <td>subapplication</td>\n",
       "      <td>WBS000162</td>\n",
       "      <td>2020-10-18 20:01:34</td>\n",
       "      <td>2020-12-02 12:57:22.406940</td>\n",
       "    </tr>\n",
       "    <tr>\n",
       "      <th>1</th>\n",
       "      <td>IM0000005</td>\n",
       "      <td>WBA000124</td>\n",
       "      <td>application</td>\n",
       "      <td>WBS000088</td>\n",
       "      <td>2020-10-10 03:28:56</td>\n",
       "      <td>2020-12-02 12:57:22.406940</td>\n",
       "    </tr>\n",
       "    <tr>\n",
       "      <th>2</th>\n",
       "      <td>IM0000006</td>\n",
       "      <td>DTA000024</td>\n",
       "      <td>application</td>\n",
       "      <td>WBS000092</td>\n",
       "      <td>2020-10-15 11:28:52</td>\n",
       "      <td>2020-12-02 12:57:22.406940</td>\n",
       "    </tr>\n",
       "    <tr>\n",
       "      <th>3</th>\n",
       "      <td>IM0000011</td>\n",
       "      <td>WBA000124</td>\n",
       "      <td>application</td>\n",
       "      <td>WBS000088</td>\n",
       "      <td>2020-10-14 05:03:00</td>\n",
       "      <td>2020-12-02 12:57:22.406940</td>\n",
       "    </tr>\n",
       "    <tr>\n",
       "      <th>4</th>\n",
       "      <td>IM0000012</td>\n",
       "      <td>WBA000124</td>\n",
       "      <td>application</td>\n",
       "      <td>WBS000088</td>\n",
       "      <td>2020-10-10 05:15:30</td>\n",
       "      <td>2020-12-02 12:57:22.406940</td>\n",
       "    </tr>\n",
       "    <tr>\n",
       "      <th>...</th>\n",
       "      <td>...</td>\n",
       "      <td>...</td>\n",
       "      <td>...</td>\n",
       "      <td>...</td>\n",
       "      <td>...</td>\n",
       "      <td>...</td>\n",
       "    </tr>\n",
       "    <tr>\n",
       "      <th>46601</th>\n",
       "      <td>IM0047053</td>\n",
       "      <td>SBA000464</td>\n",
       "      <td>application</td>\n",
       "      <td>WBS000073</td>\n",
       "      <td>2020-10-12 22:27:52</td>\n",
       "      <td>2020-12-02 12:57:22.406940</td>\n",
       "    </tr>\n",
       "    <tr>\n",
       "      <th>46602</th>\n",
       "      <td>IM0047054</td>\n",
       "      <td>SBA000461</td>\n",
       "      <td>application</td>\n",
       "      <td>WBS000073</td>\n",
       "      <td>2020-10-11 14:31:06</td>\n",
       "      <td>2020-12-02 12:57:22.406940</td>\n",
       "    </tr>\n",
       "    <tr>\n",
       "      <th>46603</th>\n",
       "      <td>IM0047055</td>\n",
       "      <td>LAP000019</td>\n",
       "      <td>computer</td>\n",
       "      <td>WBS000091</td>\n",
       "      <td>2020-10-13 18:03:30</td>\n",
       "      <td>2020-12-02 12:57:22.406940</td>\n",
       "    </tr>\n",
       "    <tr>\n",
       "      <th>46604</th>\n",
       "      <td>IM0047056</td>\n",
       "      <td>WBA000058</td>\n",
       "      <td>application</td>\n",
       "      <td>WBS000073</td>\n",
       "      <td>2020-10-16 06:41:05</td>\n",
       "      <td>2020-12-02 12:57:22.406940</td>\n",
       "    </tr>\n",
       "    <tr>\n",
       "      <th>46605</th>\n",
       "      <td>IM0047057</td>\n",
       "      <td>DCE000077</td>\n",
       "      <td>hardware</td>\n",
       "      <td>WBS000267</td>\n",
       "      <td>2020-10-12 06:51:38</td>\n",
       "      <td>2020-12-02 12:57:22.406940</td>\n",
       "    </tr>\n",
       "  </tbody>\n",
       "</table>\n",
       "<p>46606 rows × 6 columns</p>\n",
       "</div>"
      ],
      "text/plain": [
       "      incident_id ci_name_aff     ci_type_aff service_component_wbs_aff  \\\n",
       "0       IM0000004   SUB000508  subapplication                 WBS000162   \n",
       "1       IM0000005   WBA000124     application                 WBS000088   \n",
       "2       IM0000006   DTA000024     application                 WBS000092   \n",
       "3       IM0000011   WBA000124     application                 WBS000088   \n",
       "4       IM0000012   WBA000124     application                 WBS000088   \n",
       "...           ...         ...             ...                       ...   \n",
       "46601   IM0047053   SBA000464     application                 WBS000073   \n",
       "46602   IM0047054   SBA000461     application                 WBS000073   \n",
       "46603   IM0047055   LAP000019        computer                 WBS000091   \n",
       "46604   IM0047056   WBA000058     application                 WBS000073   \n",
       "46605   IM0047057   DCE000077        hardware                 WBS000267   \n",
       "\n",
       "                 datetime                    created  \n",
       "0     2020-10-18 20:01:34 2020-12-02 12:57:22.406940  \n",
       "1     2020-10-10 03:28:56 2020-12-02 12:57:22.406940  \n",
       "2     2020-10-15 11:28:52 2020-12-02 12:57:22.406940  \n",
       "3     2020-10-14 05:03:00 2020-12-02 12:57:22.406940  \n",
       "4     2020-10-10 05:15:30 2020-12-02 12:57:22.406940  \n",
       "...                   ...                        ...  \n",
       "46601 2020-10-12 22:27:52 2020-12-02 12:57:22.406940  \n",
       "46602 2020-10-11 14:31:06 2020-12-02 12:57:22.406940  \n",
       "46603 2020-10-13 18:03:30 2020-12-02 12:57:22.406940  \n",
       "46604 2020-10-16 06:41:05 2020-12-02 12:57:22.406940  \n",
       "46605 2020-10-12 06:51:38 2020-12-02 12:57:22.406940  \n",
       "\n",
       "[46606 rows x 6 columns]"
      ]
     },
     "execution_count": 26,
     "metadata": {},
     "output_type": "execute_result"
    }
   ],
   "source": [
    "import numpy as np\n",
    "import pandas as pd\n",
    "from datetime import datetime\n",
    "\n",
    "df = pd.read_csv(\"incident_clean.csv\").drop(['Unnamed: 0'], axis=1)\n",
    "\n",
    "old_column = df.columns\n",
    "new_column = []\n",
    "\n",
    "for c in old_column:\n",
    "    c = c.replace(\" \", \"_\").replace(\"(\", \"\").replace(\")\", \"\")\n",
    "    new_column.append(c.lower())\n",
    "\n",
    "\n",
    "df.columns = new_column\n",
    "\n",
    "df['datetime'] = pd.to_datetime(\n",
    "            np.random.randint(\n",
    "                datetime(2020, 10, 10).timestamp(),\n",
    "                datetime(2020, 10, 20).timestamp(),\n",
    "                size=len(df)),\n",
    "        unit=\"s\"\n",
    "    )\n",
    "df['created'] = pd.to_datetime(datetime.now())\n",
    "\n",
    "df = df[[\"incident_id\",\"ci_name_aff\",\"ci_type_aff\",\"service_component_wbs_aff\",\"datetime\",\"created\"]]\n",
    "df"
   ]
  },
  {
   "cell_type": "markdown",
   "metadata": {},
   "source": [
    "# Creating Entity"
   ]
  },
  {
   "cell_type": "raw",
   "metadata": {},
   "source": [
    "Entity defines the primary key(s) associated with one or more feature tables. The entity must be registered before declaring the associated feature tables.\n",
    "\n",
    "When creating an entity specification, consider the following fields:\n",
    "Name: Name of the entity\n",
    "Description: Description of the entity\n",
    "Value Type: Value type of the entity. Feast will attempt to coerce entity columns in your data sources into this type.\n",
    "Labels: Labels are maps that allow users to attach their own metadata to entities\n",
    "\n",
    "Permitted changes include:\n",
    "    The entity's description and labels\n",
    "The following changes are note permitted:\n",
    "    Project\n",
    "    Name of an entity\n",
    "    Type"
   ]
  },
  {
   "cell_type": "code",
   "execution_count": 27,
   "metadata": {},
   "outputs": [],
   "source": [
    "incident_id = Entity(name=\"incident_id\", description=\"incident identifier\", value_type=ValueType.STRING)"
   ]
  },
  {
   "cell_type": "markdown",
   "metadata": {},
   "source": [
    "# Creating features"
   ]
  },
  {
   "cell_type": "raw",
   "metadata": {},
   "source": [
    "The features must be defined before creating feature tables, the feature include the columns names and its type. This information saved in feast core registry. \n",
    "Note: The column in batch source data is treated as feature and must be registered in feast core.\n",
    "\n",
    "A feature is an individual measurable property observed on an entity.\n",
    "Features are defined as part of feature tables. Since Feast does not apply transformations, a feature is basically a schema that only contains a name and a type:"
   ]
  },
  {
   "cell_type": "code",
   "execution_count": 28,
   "metadata": {},
   "outputs": [],
   "source": [
    "# Daily updated features \n",
    "ci_name = Feature(\"ci_name_aff\", ValueType.STRING)\n",
    "ci_type = Feature(\"ci_type_aff\", ValueType.STRING)\n",
    "service_component = Feature(\"service_component_wbs_aff\", ValueType.STRING)"
   ]
  },
  {
   "cell_type": "markdown",
   "metadata": {},
   "source": [
    "# Sources"
   ]
  },
  {
   "cell_type": "raw",
   "metadata": {},
   "source": [
    "Sources are descriptions of external feature data and are registered to Feast as part of feature tables. Once registered, Feast can ingest feature data from these sources into stores.\n",
    "Currently, Feast supports the following source types:\n",
    "\n",
    "Batch Source\n",
    "File (as in Spark): Parquet and CSV files supported.\n",
    "BigQuery\n",
    "\n",
    "Stream Source\n",
    "Kafka\n",
    "Kinesis\n",
    "The following encodings are supported on streams\n",
    "Avro\n",
    "Protobuf\n"
   ]
  },
  {
   "cell_type": "code",
   "execution_count": 29,
   "metadata": {},
   "outputs": [],
   "source": [
    "import os\n",
    "demo_data_location = os.path.join(os.getenv(\"FEAST_SPARK_STAGING_LOCATION\", \"file:///home/jovyan/\"), \"test_data\")"
   ]
  },
  {
   "cell_type": "code",
   "execution_count": 30,
   "metadata": {},
   "outputs": [],
   "source": [
    "incident_prediction_source_uri = os.path.join(demo_data_location, \"incident_prediction\")"
   ]
  },
  {
   "cell_type": "markdown",
   "metadata": {},
   "source": [
    "# Feature table "
   ]
  },
  {
   "cell_type": "raw",
   "metadata": {},
   "source": [
    "Each feature table name is unique and feature table can be seen as analogus representation of dataframe .\n",
    "\n",
    "Feature tables serve the following purposes:\n",
    "Feature tables are a means for defining the location and properties of data sources.\n",
    "Feature tables are used to create within Feast a database-level structure for the storage of feature values.\n",
    "The data sources described within feature tables allow Feast to find and ingest feature data into stores within Feast.\n",
    "Feature tables ensure data is efficiently stored during ingestion by providing a grouping mechanism of features values that occur on the same event timestamp."
   ]
  },
  {
   "cell_type": "code",
   "execution_count": 31,
   "metadata": {},
   "outputs": [],
   "source": [
    "incident_prediction_FT = FeatureTable(\n",
    "    name = \"incident_prediction\",\n",
    "    entities = [\"incident_id\"],\n",
    "    features = [\n",
    "        ci_name,\n",
    "        ci_type,\n",
    "        service_component\n",
    "    ],\n",
    "    batch_source=FileSource(\n",
    "        event_timestamp_column=\"datetime\",\n",
    "        created_timestamp_column=\"created\",\n",
    "        file_format=ParquetFormat(),\n",
    "        file_url=incident_prediction_source_uri,\n",
    "        date_partition_column=\"date\"\n",
    "    )\n",
    ")"
   ]
  },
  {
   "cell_type": "markdown",
   "metadata": {},
   "source": [
    "# registring feature table and entity in feast client"
   ]
  },
  {
   "cell_type": "code",
   "execution_count": 32,
   "metadata": {},
   "outputs": [],
   "source": [
    "client.apply_entity(incident_id)\n",
    "client.apply_feature_table(incident_prediction_FT)"
   ]
  },
  {
   "cell_type": "code",
   "execution_count": 33,
   "metadata": {},
   "outputs": [
    {
     "name": "stdout",
     "output_type": "stream",
     "text": [
      "spec:\n",
      "  name: incident_prediction\n",
      "  entities:\n",
      "  - incident_id\n",
      "  features:\n",
      "  - name: service_component_wbs_aff\n",
      "    valueType: STRING\n",
      "  - name: ci_type_aff\n",
      "    valueType: STRING\n",
      "  - name: ci_name_aff\n",
      "    valueType: STRING\n",
      "  batchSource:\n",
      "    type: BATCH_FILE\n",
      "    eventTimestampColumn: datetime\n",
      "    datePartitionColumn: date\n",
      "    createdTimestampColumn: created\n",
      "    fileOptions:\n",
      "      fileFormat:\n",
      "        parquetFormat: {}\n",
      "      fileUrl: file:///shared/staging/test_data/incident_prediction\n",
      "meta:\n",
      "  createdTimestamp: '2020-11-30T11:32:50Z'\n",
      "\n"
     ]
    }
   ],
   "source": [
    "print(client.get_feature_table(\"incident_prediction\").to_yaml())"
   ]
  },
  {
   "cell_type": "markdown",
   "metadata": {},
   "source": [
    "# Ingesting data in feast batch supported database . "
   ]
  },
  {
   "cell_type": "code",
   "execution_count": 34,
   "metadata": {},
   "outputs": [
    {
     "name": "stdout",
     "output_type": "stream",
     "text": [
      "Removing temporary file(s)...\n",
      "Data has been successfully ingested into FeatureTable batch source.\n"
     ]
    }
   ],
   "source": [
    "client.ingest(incident_prediction_FT, df)"
   ]
  },
  {
   "cell_type": "code",
   "execution_count": 35,
   "metadata": {},
   "outputs": [],
   "source": [
    "import gcsfs\n",
    "from pyarrow.parquet import ParquetDataset\n",
    "from urllib.parse import urlparse"
   ]
  },
  {
   "cell_type": "code",
   "execution_count": 36,
   "metadata": {},
   "outputs": [],
   "source": [
    "def read_parquet(uri):\n",
    "    parsed_uri = urlparse(uri)\n",
    "    if parsed_uri.scheme == \"file\":\n",
    "        return pd.read_parquet(parsed_uri.path)\n",
    "    elif parsed_uri.scheme == \"gs\":\n",
    "        fs = gcsfs.GCSFileSystem()\n",
    "        files = [\"gs://\" + path for path in fs.glob(uri + '/part-*')]\n",
    "        ds = ParquetDataset(files, filesystem=fs)\n",
    "        return ds.read().to_pandas()\n",
    "    elif parsed_uri.scheme == 's3':\n",
    "        import s3fs\n",
    "        fs = s3fs.S3FileSystem()\n",
    "        files = [\"s3://\" + path for path in fs.glob(uri + '/part-*')]\n",
    "        ds = ParquetDataset(files, filesystem=fs)\n",
    "        return ds.read().to_pandas()\n",
    "    else:\n",
    "        raise ValueError(f\"Unsupported URL scheme {uri}\")"
   ]
  },
  {
   "cell_type": "markdown",
   "metadata": {},
   "source": [
    "# Getting training features"
   ]
  },
  {
   "cell_type": "raw",
   "metadata": {},
   "source": [
    "Feast provides a historical retrieval interface for exporting feature data in order to train machine learning models. Essentially, users are able to enrich their data with features from any feature tables.\n",
    "\n",
    "Feast needs to join feature values onto specific entities at specific points in time. Thus, it is necessary to provide an entity dataframe as part of the get_historical_features method\n",
    "\n",
    "https://docs.feast.dev/user-guide/getting-training-features"
   ]
  },
  {
   "cell_type": "markdown",
   "metadata": {},
   "source": [
    "# Entity DataFrame"
   ]
  },
  {
   "cell_type": "raw",
   "metadata": {},
   "source": [
    "Entity DataFrame used as refrenece to retrieve feature values. Entity dataframe consist of entity feature value and event timestamp."
   ]
  },
  {
   "cell_type": "code",
   "execution_count": 37,
   "metadata": {},
   "outputs": [
    {
     "name": "stderr",
     "output_type": "stream",
     "text": [
      "/opt/conda/lib/python3.7/site-packages/ipykernel_launcher.py:5: SettingWithCopyWarning: \n",
      "A value is trying to be set on a copy of a slice from a DataFrame.\n",
      "Try using .loc[row_indexer,col_indexer] = value instead\n",
      "\n",
      "See the caveats in the documentation: https://pandas.pydata.org/pandas-docs/stable/user_guide/indexing.html#returning-a-view-versus-a-copy\n",
      "  \"\"\"\n"
     ]
    },
    {
     "data": {
      "text/html": [
       "<div>\n",
       "<style scoped>\n",
       "    .dataframe tbody tr th:only-of-type {\n",
       "        vertical-align: middle;\n",
       "    }\n",
       "\n",
       "    .dataframe tbody tr th {\n",
       "        vertical-align: top;\n",
       "    }\n",
       "\n",
       "    .dataframe thead th {\n",
       "        text-align: right;\n",
       "    }\n",
       "</style>\n",
       "<table border=\"1\" class=\"dataframe\">\n",
       "  <thead>\n",
       "    <tr style=\"text-align: right;\">\n",
       "      <th></th>\n",
       "      <th>incident_id</th>\n",
       "      <th>event_timestamp</th>\n",
       "    </tr>\n",
       "  </thead>\n",
       "  <tbody>\n",
       "    <tr>\n",
       "      <th>0</th>\n",
       "      <td>IM0000004</td>\n",
       "      <td>2020-10-18 05:58:58</td>\n",
       "    </tr>\n",
       "    <tr>\n",
       "      <th>1</th>\n",
       "      <td>IM0000005</td>\n",
       "      <td>2020-10-19 08:19:19</td>\n",
       "    </tr>\n",
       "    <tr>\n",
       "      <th>2</th>\n",
       "      <td>IM0000006</td>\n",
       "      <td>2020-10-18 13:01:03</td>\n",
       "    </tr>\n",
       "    <tr>\n",
       "      <th>3</th>\n",
       "      <td>IM0000011</td>\n",
       "      <td>2020-10-18 02:40:23</td>\n",
       "    </tr>\n",
       "    <tr>\n",
       "      <th>4</th>\n",
       "      <td>IM0000012</td>\n",
       "      <td>2020-10-19 04:37:58</td>\n",
       "    </tr>\n",
       "    <tr>\n",
       "      <th>...</th>\n",
       "      <td>...</td>\n",
       "      <td>...</td>\n",
       "    </tr>\n",
       "    <tr>\n",
       "      <th>46601</th>\n",
       "      <td>IM0047053</td>\n",
       "      <td>2020-10-19 19:30:40</td>\n",
       "    </tr>\n",
       "    <tr>\n",
       "      <th>46602</th>\n",
       "      <td>IM0047054</td>\n",
       "      <td>2020-10-18 13:05:46</td>\n",
       "    </tr>\n",
       "    <tr>\n",
       "      <th>46603</th>\n",
       "      <td>IM0047055</td>\n",
       "      <td>2020-10-19 12:09:01</td>\n",
       "    </tr>\n",
       "    <tr>\n",
       "      <th>46604</th>\n",
       "      <td>IM0047056</td>\n",
       "      <td>2020-10-18 09:45:35</td>\n",
       "    </tr>\n",
       "    <tr>\n",
       "      <th>46605</th>\n",
       "      <td>IM0047057</td>\n",
       "      <td>2020-10-19 19:17:34</td>\n",
       "    </tr>\n",
       "  </tbody>\n",
       "</table>\n",
       "<p>46606 rows × 2 columns</p>\n",
       "</div>"
      ],
      "text/plain": [
       "      incident_id     event_timestamp\n",
       "0       IM0000004 2020-10-18 05:58:58\n",
       "1       IM0000005 2020-10-19 08:19:19\n",
       "2       IM0000006 2020-10-18 13:01:03\n",
       "3       IM0000011 2020-10-18 02:40:23\n",
       "4       IM0000012 2020-10-19 04:37:58\n",
       "...           ...                 ...\n",
       "46601   IM0047053 2020-10-19 19:30:40\n",
       "46602   IM0047054 2020-10-18 13:05:46\n",
       "46603   IM0047055 2020-10-19 12:09:01\n",
       "46604   IM0047056 2020-10-18 09:45:35\n",
       "46605   IM0047057 2020-10-19 19:17:34\n",
       "\n",
       "[46606 rows x 2 columns]"
      ]
     },
     "execution_count": 37,
     "metadata": {},
     "output_type": "execute_result"
    }
   ],
   "source": [
    "entities_with_timestamp = df[[\"incident_id\"]]\n",
    "entities_with_timestamp['event_timestamp'] = pd.to_datetime(np.random.randint(\n",
    "    datetime(2020, 10, 18).timestamp(),\n",
    "    datetime(2020, 10, 20).timestamp(),\n",
    "    size=len(df)), unit='s')\n",
    "entities_with_timestamp"
   ]
  },
  {
   "cell_type": "raw",
   "metadata": {},
   "source": [
    "Getting Historical Features "
   ]
  },
  {
   "cell_type": "code",
   "execution_count": 38,
   "metadata": {},
   "outputs": [],
   "source": [
    "job = client.get_historical_features(\n",
    "    feature_refs=[\n",
    "        \"incident_prediction:ci_name_aff\",\n",
    "        \"incident_prediction:ci_type_aff\",\n",
    "        \"incident_prediction:service_component_wbs_aff\"\n",
    "    ], \n",
    "    entity_source=entities_with_timestamp\n",
    ")"
   ]
  },
  {
   "cell_type": "code",
   "execution_count": 39,
   "metadata": {},
   "outputs": [],
   "source": [
    "output_file_uri = job.get_output_file_uri()"
   ]
  },
  {
   "cell_type": "code",
   "execution_count": 40,
   "metadata": {},
   "outputs": [
    {
     "data": {
      "text/html": [
       "<div>\n",
       "<style scoped>\n",
       "    .dataframe tbody tr th:only-of-type {\n",
       "        vertical-align: middle;\n",
       "    }\n",
       "\n",
       "    .dataframe tbody tr th {\n",
       "        vertical-align: top;\n",
       "    }\n",
       "\n",
       "    .dataframe thead th {\n",
       "        text-align: right;\n",
       "    }\n",
       "</style>\n",
       "<table border=\"1\" class=\"dataframe\">\n",
       "  <thead>\n",
       "    <tr style=\"text-align: right;\">\n",
       "      <th></th>\n",
       "      <th>incident_id</th>\n",
       "      <th>event_timestamp</th>\n",
       "      <th>incident_prediction__service_component_wbs_aff</th>\n",
       "      <th>incident_prediction__ci_type_aff</th>\n",
       "      <th>incident_prediction__ci_name_aff</th>\n",
       "    </tr>\n",
       "  </thead>\n",
       "  <tbody>\n",
       "    <tr>\n",
       "      <th>0</th>\n",
       "      <td>IM0000035</td>\n",
       "      <td>2020-10-18 16:46:57</td>\n",
       "      <td>WBS000088</td>\n",
       "      <td>application</td>\n",
       "      <td>WBA000124</td>\n",
       "    </tr>\n",
       "    <tr>\n",
       "      <th>1</th>\n",
       "      <td>IM0000420</td>\n",
       "      <td>2020-10-19 07:01:53</td>\n",
       "      <td>WBS000014</td>\n",
       "      <td>application</td>\n",
       "      <td>SBA000172</td>\n",
       "    </tr>\n",
       "    <tr>\n",
       "      <th>2</th>\n",
       "      <td>IM0000432</td>\n",
       "      <td>2020-10-19 05:28:59</td>\n",
       "      <td>WBS000072</td>\n",
       "      <td>application</td>\n",
       "      <td>SBA000263</td>\n",
       "    </tr>\n",
       "    <tr>\n",
       "      <th>3</th>\n",
       "      <td>IM0000679</td>\n",
       "      <td>2020-10-18 16:16:59</td>\n",
       "      <td>WBS000072</td>\n",
       "      <td>application</td>\n",
       "      <td>SBA000263</td>\n",
       "    </tr>\n",
       "    <tr>\n",
       "      <th>4</th>\n",
       "      <td>IM0000757</td>\n",
       "      <td>2020-10-18 16:30:30</td>\n",
       "      <td>WBS000072</td>\n",
       "      <td>application</td>\n",
       "      <td>SBA000263</td>\n",
       "    </tr>\n",
       "    <tr>\n",
       "      <th>...</th>\n",
       "      <td>...</td>\n",
       "      <td>...</td>\n",
       "      <td>...</td>\n",
       "      <td>...</td>\n",
       "      <td>...</td>\n",
       "    </tr>\n",
       "    <tr>\n",
       "      <th>46601</th>\n",
       "      <td>IM0046584</td>\n",
       "      <td>2020-10-18 17:32:16</td>\n",
       "      <td>WBS000073</td>\n",
       "      <td>application</td>\n",
       "      <td>SBA000462</td>\n",
       "    </tr>\n",
       "    <tr>\n",
       "      <th>46602</th>\n",
       "      <td>IM0046698</td>\n",
       "      <td>2020-10-18 19:11:32</td>\n",
       "      <td>WBS000017</td>\n",
       "      <td>application</td>\n",
       "      <td>SBA000073</td>\n",
       "    </tr>\n",
       "    <tr>\n",
       "      <th>46603</th>\n",
       "      <td>IM0046899</td>\n",
       "      <td>2020-10-18 16:47:43</td>\n",
       "      <td>WBS000072</td>\n",
       "      <td>application</td>\n",
       "      <td>SBA000263</td>\n",
       "    </tr>\n",
       "    <tr>\n",
       "      <th>46604</th>\n",
       "      <td>IM0046900</td>\n",
       "      <td>2020-10-19 06:51:37</td>\n",
       "      <td>WBS000048</td>\n",
       "      <td>application</td>\n",
       "      <td>SBA000317</td>\n",
       "    </tr>\n",
       "    <tr>\n",
       "      <th>46605</th>\n",
       "      <td>IM0047040</td>\n",
       "      <td>2020-10-18 22:11:11</td>\n",
       "      <td>WBS000095</td>\n",
       "      <td>subapplication</td>\n",
       "      <td>SUB000113</td>\n",
       "    </tr>\n",
       "  </tbody>\n",
       "</table>\n",
       "<p>46606 rows × 5 columns</p>\n",
       "</div>"
      ],
      "text/plain": [
       "      incident_id     event_timestamp  \\\n",
       "0       IM0000035 2020-10-18 16:46:57   \n",
       "1       IM0000420 2020-10-19 07:01:53   \n",
       "2       IM0000432 2020-10-19 05:28:59   \n",
       "3       IM0000679 2020-10-18 16:16:59   \n",
       "4       IM0000757 2020-10-18 16:30:30   \n",
       "...           ...                 ...   \n",
       "46601   IM0046584 2020-10-18 17:32:16   \n",
       "46602   IM0046698 2020-10-18 19:11:32   \n",
       "46603   IM0046899 2020-10-18 16:47:43   \n",
       "46604   IM0046900 2020-10-19 06:51:37   \n",
       "46605   IM0047040 2020-10-18 22:11:11   \n",
       "\n",
       "      incident_prediction__service_component_wbs_aff  \\\n",
       "0                                          WBS000088   \n",
       "1                                          WBS000014   \n",
       "2                                          WBS000072   \n",
       "3                                          WBS000072   \n",
       "4                                          WBS000072   \n",
       "...                                              ...   \n",
       "46601                                      WBS000073   \n",
       "46602                                      WBS000017   \n",
       "46603                                      WBS000072   \n",
       "46604                                      WBS000048   \n",
       "46605                                      WBS000095   \n",
       "\n",
       "      incident_prediction__ci_type_aff incident_prediction__ci_name_aff  \n",
       "0                          application                        WBA000124  \n",
       "1                          application                        SBA000172  \n",
       "2                          application                        SBA000263  \n",
       "3                          application                        SBA000263  \n",
       "4                          application                        SBA000263  \n",
       "...                                ...                              ...  \n",
       "46601                      application                        SBA000462  \n",
       "46602                      application                        SBA000073  \n",
       "46603                      application                        SBA000263  \n",
       "46604                      application                        SBA000317  \n",
       "46605                   subapplication                        SUB000113  \n",
       "\n",
       "[46606 rows x 5 columns]"
      ]
     },
     "execution_count": 40,
     "metadata": {},
     "output_type": "execute_result"
    }
   ],
   "source": [
    "read_parquet(output_file_uri)"
   ]
  },
  {
   "cell_type": "raw",
   "metadata": {},
   "source": [
    "Again , getting historical data for new entity dataframe. here only 10 records are being retrieved."
   ]
  },
  {
   "cell_type": "code",
   "execution_count": 41,
   "metadata": {},
   "outputs": [],
   "source": [
    "entities_with_timestamp = df[[\"incident_id\"]].iloc[:10]\n",
    "entities_with_timestamp['event_timestamp'] = pd.to_datetime(np.random.randint(\n",
    "    datetime(2020, 10, 18).timestamp(),\n",
    "    datetime(2020, 10, 20).timestamp(),\n",
    "    size=10), unit='s')\n",
    "\n",
    "job = client.get_historical_features(\n",
    "    feature_refs=[\n",
    "        \"incident_prediction:ci_name_aff\",\n",
    "        \"incident_prediction:ci_type_aff\",\n",
    "        \"incident_prediction:service_component_wbs_aff\"\n",
    "    ], \n",
    "    entity_source=entities_with_timestamp\n",
    ")"
   ]
  },
  {
   "cell_type": "code",
   "execution_count": 42,
   "metadata": {},
   "outputs": [],
   "source": [
    "output_file_uri = job.get_output_file_uri()"
   ]
  },
  {
   "cell_type": "code",
   "execution_count": 43,
   "metadata": {},
   "outputs": [
    {
     "data": {
      "text/html": [
       "<div>\n",
       "<style scoped>\n",
       "    .dataframe tbody tr th:only-of-type {\n",
       "        vertical-align: middle;\n",
       "    }\n",
       "\n",
       "    .dataframe tbody tr th {\n",
       "        vertical-align: top;\n",
       "    }\n",
       "\n",
       "    .dataframe thead th {\n",
       "        text-align: right;\n",
       "    }\n",
       "</style>\n",
       "<table border=\"1\" class=\"dataframe\">\n",
       "  <thead>\n",
       "    <tr style=\"text-align: right;\">\n",
       "      <th></th>\n",
       "      <th>incident_id</th>\n",
       "      <th>event_timestamp</th>\n",
       "      <th>incident_prediction__service_component_wbs_aff</th>\n",
       "      <th>incident_prediction__ci_type_aff</th>\n",
       "      <th>incident_prediction__ci_name_aff</th>\n",
       "    </tr>\n",
       "  </thead>\n",
       "  <tbody>\n",
       "    <tr>\n",
       "      <th>0</th>\n",
       "      <td>IM0000012</td>\n",
       "      <td>2020-10-19 04:06:21</td>\n",
       "      <td>WBS000088</td>\n",
       "      <td>application</td>\n",
       "      <td>WBA000124</td>\n",
       "    </tr>\n",
       "    <tr>\n",
       "      <th>1</th>\n",
       "      <td>IM0000013</td>\n",
       "      <td>2020-10-19 14:55:23</td>\n",
       "      <td>WBS000088</td>\n",
       "      <td>application</td>\n",
       "      <td>WBA000124</td>\n",
       "    </tr>\n",
       "    <tr>\n",
       "      <th>2</th>\n",
       "      <td>IM0000006</td>\n",
       "      <td>2020-10-18 23:46:51</td>\n",
       "      <td>WBS000092</td>\n",
       "      <td>application</td>\n",
       "      <td>DTA000024</td>\n",
       "    </tr>\n",
       "    <tr>\n",
       "      <th>3</th>\n",
       "      <td>IM0000018</td>\n",
       "      <td>2020-10-19 01:59:47</td>\n",
       "      <td>WBS000055</td>\n",
       "      <td>application</td>\n",
       "      <td>WBA000082</td>\n",
       "    </tr>\n",
       "    <tr>\n",
       "      <th>4</th>\n",
       "      <td>IM0000011</td>\n",
       "      <td>2020-10-19 23:35:45</td>\n",
       "      <td>WBS000088</td>\n",
       "      <td>application</td>\n",
       "      <td>WBA000124</td>\n",
       "    </tr>\n",
       "    <tr>\n",
       "      <th>5</th>\n",
       "      <td>IM0000005</td>\n",
       "      <td>2020-10-18 17:56:19</td>\n",
       "      <td>WBS000088</td>\n",
       "      <td>application</td>\n",
       "      <td>WBA000124</td>\n",
       "    </tr>\n",
       "    <tr>\n",
       "      <th>6</th>\n",
       "      <td>IM0000014</td>\n",
       "      <td>2020-10-18 17:53:20</td>\n",
       "      <td>WBS000055</td>\n",
       "      <td>application</td>\n",
       "      <td>WBA000082</td>\n",
       "    </tr>\n",
       "    <tr>\n",
       "      <th>7</th>\n",
       "      <td>IM0000015</td>\n",
       "      <td>2020-10-19 07:37:26</td>\n",
       "      <td>WBS000088</td>\n",
       "      <td>application</td>\n",
       "      <td>WBA000124</td>\n",
       "    </tr>\n",
       "    <tr>\n",
       "      <th>8</th>\n",
       "      <td>IM0000004</td>\n",
       "      <td>2020-10-18 19:28:26</td>\n",
       "      <td>WBS000162</td>\n",
       "      <td>subapplication</td>\n",
       "      <td>SUB000508</td>\n",
       "    </tr>\n",
       "    <tr>\n",
       "      <th>9</th>\n",
       "      <td>IM0000017</td>\n",
       "      <td>2020-10-19 03:44:43</td>\n",
       "      <td>WBS000088</td>\n",
       "      <td>application</td>\n",
       "      <td>WBA000124</td>\n",
       "    </tr>\n",
       "  </tbody>\n",
       "</table>\n",
       "</div>"
      ],
      "text/plain": [
       "  incident_id     event_timestamp  \\\n",
       "0   IM0000012 2020-10-19 04:06:21   \n",
       "1   IM0000013 2020-10-19 14:55:23   \n",
       "2   IM0000006 2020-10-18 23:46:51   \n",
       "3   IM0000018 2020-10-19 01:59:47   \n",
       "4   IM0000011 2020-10-19 23:35:45   \n",
       "5   IM0000005 2020-10-18 17:56:19   \n",
       "6   IM0000014 2020-10-18 17:53:20   \n",
       "7   IM0000015 2020-10-19 07:37:26   \n",
       "8   IM0000004 2020-10-18 19:28:26   \n",
       "9   IM0000017 2020-10-19 03:44:43   \n",
       "\n",
       "  incident_prediction__service_component_wbs_aff  \\\n",
       "0                                      WBS000088   \n",
       "1                                      WBS000088   \n",
       "2                                      WBS000092   \n",
       "3                                      WBS000055   \n",
       "4                                      WBS000088   \n",
       "5                                      WBS000088   \n",
       "6                                      WBS000055   \n",
       "7                                      WBS000088   \n",
       "8                                      WBS000162   \n",
       "9                                      WBS000088   \n",
       "\n",
       "  incident_prediction__ci_type_aff incident_prediction__ci_name_aff  \n",
       "0                      application                        WBA000124  \n",
       "1                      application                        WBA000124  \n",
       "2                      application                        DTA000024  \n",
       "3                      application                        WBA000082  \n",
       "4                      application                        WBA000124  \n",
       "5                      application                        WBA000124  \n",
       "6                      application                        WBA000082  \n",
       "7                      application                        WBA000124  \n",
       "8                   subapplication                        SUB000508  \n",
       "9                      application                        WBA000124  "
      ]
     },
     "execution_count": 43,
     "metadata": {},
     "output_type": "execute_result"
    }
   ],
   "source": [
    "read_parquet(output_file_uri)"
   ]
  },
  {
   "cell_type": "code",
   "execution_count": null,
   "metadata": {},
   "outputs": [],
   "source": []
  }
 ],
 "metadata": {
  "kernelspec": {
   "display_name": "Python 3",
   "language": "python",
   "name": "python3"
  },
  "language_info": {
   "codemirror_mode": {
    "name": "ipython",
    "version": 3
   },
   "file_extension": ".py",
   "mimetype": "text/x-python",
   "name": "python",
   "nbconvert_exporter": "python",
   "pygments_lexer": "ipython3",
   "version": "3.7.3"
  }
 },
 "nbformat": 4,
 "nbformat_minor": 4
}
